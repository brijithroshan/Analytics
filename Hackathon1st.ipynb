{
  "metadata": {
    "kernelspec": {
      "display_name": "Python 3",
      "language": "python",
      "name": "python3"
    },
    "language_info": {
      "codemirror_mode": {
        "name": "ipython",
        "version": 3
      },
      "file_extension": ".py",
      "mimetype": "text/x-python",
      "name": "python",
      "nbconvert_exporter": "python",
      "pygments_lexer": "ipython3",
      "version": "3.11.11"
    },
    "kaggle": {
      "accelerator": "none",
      "dataSources": [
        {
          "sourceId": 104491,
          "databundleVersionId": 12585144,
          "sourceType": "competition"
        }
      ],
      "dockerImageVersionId": 31040,
      "isInternetEnabled": false,
      "language": "python",
      "sourceType": "notebook",
      "isGpuEnabled": false
    },
    "papermill": {
      "default_parameters": {},
      "duration": 12.460836,
      "end_time": "2025-06-04T15:58:22.939774",
      "environment_variables": {},
      "exception": null,
      "input_path": "__notebook__.ipynb",
      "output_path": "__notebook__.ipynb",
      "parameters": {},
      "start_time": "2025-06-04T15:58:10.478938",
      "version": "2.6.0"
    },
    "colab": {
      "provenance": [],
      "name": "notebook9d377ffb89",
      "include_colab_link": true
    }
  },
  "nbformat_minor": 0,
  "nbformat": 4,
  "cells": [
    {
      "cell_type": "markdown",
      "metadata": {
        "id": "view-in-github",
        "colab_type": "text"
      },
      "source": [
        "<a href=\"https://colab.research.google.com/github/brijithroshan/Analytics/blob/main/Hackathon1st.ipynb\" target=\"_parent\"><img src=\"https://colab.research.google.com/assets/colab-badge.svg\" alt=\"Open In Colab\"/></a>"
      ]
    },
    {
      "source": [
        "# IMPORTANT: SOME KAGGLE DATA SOURCES ARE PRIVATE\n",
        "# RUN THIS CELL IN ORDER TO IMPORT YOUR KAGGLE DATA SOURCES.\n",
        "import kagglehub\n",
        "kagglehub.login()\n"
      ],
      "metadata": {
        "id": "wrTTgVhkPRUg"
      },
      "cell_type": "code",
      "outputs": [],
      "execution_count": null
    },
    {
      "source": [
        "# IMPORTANT: RUN THIS CELL IN ORDER TO IMPORT YOUR KAGGLE DATA SOURCES,\n",
        "# THEN FEEL FREE TO DELETE THIS CELL.\n",
        "# NOTE: THIS NOTEBOOK ENVIRONMENT DIFFERS FROM KAGGLE'S PYTHON\n",
        "# ENVIRONMENT SO THERE MAY BE MISSING LIBRARIES USED BY YOUR\n",
        "# NOTEBOOK.\n",
        "\n",
        "summer_analytics_mid_hackathon_path = kagglehub.competition_download('summer-analytics-mid-hackathon')\n",
        "\n",
        "print('Data source import complete.')\n"
      ],
      "metadata": {
        "id": "vI2qVYWdPRUj"
      },
      "cell_type": "code",
      "outputs": [],
      "execution_count": null
    },
    {
      "cell_type": "code",
      "source": [
        "# This Python 3 environment comes with many helpful analytics libraries installed\n",
        "# It is defined by the kaggle/python Docker image: https://github.com/kaggle/docker-python\n",
        "# For example, here's several helpful packages to load\n",
        "\n",
        "import numpy as np # linear algebra\n",
        "import pandas as pd # data processing, CSV file I/O (e.g. pd.read_csv)\n",
        "\n",
        "# Input data files are available in the read-only \"../input/\" directory\n",
        "# For example, running this (by clicking run or pressing Shift+Enter) will list all files under the input directory\n",
        "\n",
        "import os\n",
        "for dirname, _, filenames in os.walk('/kaggle/input'):\n",
        "    for filename in filenames:\n",
        "        print(os.path.join(dirname, filename))\n",
        "\n",
        "# You can write up to 20GB to the current directory (/kaggle/working/) that gets preserved as output when you create a version using \"Save & Run All\"\n",
        "# You can also write temporary files to /kaggle/temp/, but they won't be saved outside of the current session"
      ],
      "metadata": {
        "_cell_guid": "b1076dfc-b9ad-4769-8c92-a6c4dae69d19",
        "_uuid": "8f2839f25d086af736a60e9eeb907d3b93b6e0e5",
        "execution": {
          "iopub.status.busy": "2025-06-15T05:52:06.623783Z",
          "iopub.execute_input": "2025-06-15T05:52:06.623997Z",
          "iopub.status.idle": "2025-06-15T05:52:08.106619Z",
          "shell.execute_reply.started": "2025-06-15T05:52:06.623977Z",
          "shell.execute_reply": "2025-06-15T05:52:08.105526Z"
        },
        "papermill": {
          "duration": 2.406058,
          "end_time": "2025-06-04T15:58:19.106134",
          "exception": false,
          "start_time": "2025-06-04T15:58:16.700076",
          "status": "completed"
        },
        "tags": [],
        "id": "a8cbd0db",
        "trusted": true
      },
      "outputs": [],
      "execution_count": null
    },
    {
      "cell_type": "code",
      "source": [
        "df = pd.read_csv(\"/kaggle/input/summer-analytics-mid-hackathon/hacktrain.csv\")\n",
        "df #ignore the warnings"
      ],
      "metadata": {
        "execution": {
          "iopub.status.busy": "2025-06-15T05:52:08.108433Z",
          "iopub.execute_input": "2025-06-15T05:52:08.108933Z",
          "iopub.status.idle": "2025-06-15T05:52:08.249537Z",
          "shell.execute_reply.started": "2025-06-15T05:52:08.108906Z",
          "shell.execute_reply": "2025-06-15T05:52:08.248544Z"
        },
        "papermill": {
          "duration": 0.161514,
          "end_time": "2025-06-04T15:58:19.271341",
          "exception": false,
          "start_time": "2025-06-04T15:58:19.109827",
          "status": "completed"
        },
        "tags": [],
        "id": "52fc0999",
        "trusted": true
      },
      "outputs": [],
      "execution_count": null
    },
    {
      "cell_type": "code",
      "source": [
        "df.isnull().sum()"
      ],
      "metadata": {
        "execution": {
          "iopub.status.busy": "2025-06-15T05:52:08.250575Z",
          "iopub.execute_input": "2025-06-15T05:52:08.250824Z",
          "iopub.status.idle": "2025-06-15T05:52:08.265716Z",
          "shell.execute_reply.started": "2025-06-15T05:52:08.250804Z",
          "shell.execute_reply": "2025-06-15T05:52:08.264616Z"
        },
        "papermill": {
          "duration": 0.023701,
          "end_time": "2025-06-04T15:58:19.299357",
          "exception": false,
          "start_time": "2025-06-04T15:58:19.275656",
          "status": "completed"
        },
        "tags": [],
        "id": "92e3be16",
        "trusted": true
      },
      "outputs": [],
      "execution_count": null
    },
    {
      "cell_type": "code",
      "source": [
        "df.fillna(df.mean(numeric_only=True), inplace=True) #simple mean imputation [This part has a lot of scope for imporovement.]\n",
        "#keep in mind that the data is inherently noisy and the test dataset is not.\n",
        "df.isnull().sum()"
      ],
      "metadata": {
        "execution": {
          "iopub.status.busy": "2025-06-15T05:52:08.268345Z",
          "iopub.execute_input": "2025-06-15T05:52:08.268718Z",
          "iopub.status.idle": "2025-06-15T05:52:08.306988Z",
          "shell.execute_reply.started": "2025-06-15T05:52:08.268689Z",
          "shell.execute_reply": "2025-06-15T05:52:08.306205Z"
        },
        "papermill": {
          "duration": 0.037963,
          "end_time": "2025-06-04T15:58:19.341331",
          "exception": false,
          "start_time": "2025-06-04T15:58:19.303368",
          "status": "completed"
        },
        "tags": [],
        "id": "8646c661",
        "trusted": true
      },
      "outputs": [],
      "execution_count": null
    },
    {
      "cell_type": "code",
      "source": [
        "import pandas as pd\n",
        "from sklearn.linear_model import LogisticRegression\n",
        "from sklearn.model_selection import train_test_split\n",
        "from sklearn.preprocessing import LabelEncoder\n",
        "from sklearn.metrics import classification_report\n",
        "\n",
        "# Drop ID column\n",
        "df.drop(columns=['ID'], inplace=True)\n",
        "\n",
        "# Encode class column (if it's categorical)\n",
        "label_encoder = LabelEncoder()\n",
        "df['class'] = label_encoder.fit_transform(df['class'])\n",
        "\n",
        "# Split into features and target\n",
        "X = df.drop(columns=['class'])\n",
        "y = df['class']\n",
        "\n",
        "# Train-test split\n",
        "X_train, X_test, y_train, y_test = train_test_split(\n",
        "    X, y, test_size=0.2, random_state=42, stratify=y)\n",
        "\n",
        "# Fit multinomial logistic regression\n",
        "model = LogisticRegression(\n",
        "    multi_class='multinomial',\n",
        "    solver='lbfgs',\n",
        "    max_iter=10\n",
        ")\n",
        "model.fit(X_train, y_train)\n",
        "\n",
        "# Predict on test set\n",
        "y_pred = model.predict(X_test)\n",
        "\n",
        "# Classification report with all original class labels\n",
        "print(classification_report(\n",
        "    y_test,\n",
        "    y_pred,\n",
        "    labels=list(range(len(label_encoder.classes_))),\n",
        "    target_names=label_encoder.classes_\n",
        "))\n"
      ],
      "metadata": {
        "execution": {
          "iopub.status.busy": "2025-06-15T05:52:08.307855Z",
          "iopub.execute_input": "2025-06-15T05:52:08.308158Z",
          "iopub.status.idle": "2025-06-15T05:52:10.290865Z",
          "shell.execute_reply.started": "2025-06-15T05:52:08.308126Z",
          "shell.execute_reply": "2025-06-15T05:52:10.286797Z"
        },
        "papermill": {
          "duration": 2.652139,
          "end_time": "2025-06-04T15:58:21.997405",
          "exception": false,
          "start_time": "2025-06-04T15:58:19.345266",
          "status": "completed"
        },
        "tags": [],
        "id": "c5a6f9fa",
        "trusted": true
      },
      "outputs": [],
      "execution_count": null
    },
    {
      "cell_type": "code",
      "source": [
        "test_data = pd.read_csv(\"/kaggle/input/summer-analytics-mid-hackathon/hacktest.csv\")\n",
        "test_data.shape"
      ],
      "metadata": {
        "execution": {
          "iopub.status.busy": "2025-06-15T05:52:10.291713Z",
          "iopub.execute_input": "2025-06-15T05:52:10.292158Z",
          "iopub.status.idle": "2025-06-15T05:52:10.368973Z",
          "shell.execute_reply.started": "2025-06-15T05:52:10.292132Z",
          "shell.execute_reply": "2025-06-15T05:52:10.365336Z"
        },
        "papermill": {
          "duration": 0.068872,
          "end_time": "2025-06-04T15:58:22.072964",
          "exception": false,
          "start_time": "2025-06-04T15:58:22.004092",
          "status": "completed"
        },
        "tags": [],
        "id": "ff1cd1b8",
        "trusted": true
      },
      "outputs": [],
      "execution_count": null
    },
    {
      "cell_type": "code",
      "source": [
        "ID=test_data['ID']\n",
        "test_data.drop(['ID'],axis=1,inplace=True)"
      ],
      "metadata": {
        "execution": {
          "iopub.status.busy": "2025-06-15T05:52:10.370111Z",
          "iopub.execute_input": "2025-06-15T05:52:10.370518Z",
          "iopub.status.idle": "2025-06-15T05:52:10.37664Z",
          "shell.execute_reply.started": "2025-06-15T05:52:10.370483Z",
          "shell.execute_reply": "2025-06-15T05:52:10.375707Z"
        },
        "papermill": {
          "duration": 0.013382,
          "end_time": "2025-06-04T15:58:22.091265",
          "exception": false,
          "start_time": "2025-06-04T15:58:22.077883",
          "status": "completed"
        },
        "tags": [],
        "id": "ac73a96b",
        "trusted": true
      },
      "outputs": [],
      "execution_count": null
    },
    {
      "cell_type": "code",
      "source": [
        "y_test = model.predict(test_data)"
      ],
      "metadata": {
        "execution": {
          "iopub.status.busy": "2025-06-15T05:52:10.377404Z",
          "iopub.execute_input": "2025-06-15T05:52:10.377707Z",
          "iopub.status.idle": "2025-06-15T05:52:10.397872Z",
          "shell.execute_reply.started": "2025-06-15T05:52:10.377682Z",
          "shell.execute_reply": "2025-06-15T05:52:10.396876Z"
        },
        "papermill": {
          "duration": 0.013618,
          "end_time": "2025-06-04T15:58:22.109275",
          "exception": false,
          "start_time": "2025-06-04T15:58:22.095657",
          "status": "completed"
        },
        "tags": [],
        "id": "e65b77a4",
        "trusted": true
      },
      "outputs": [],
      "execution_count": null
    },
    {
      "cell_type": "code",
      "source": [
        "y_test"
      ],
      "metadata": {
        "execution": {
          "iopub.status.busy": "2025-06-15T05:52:10.399121Z",
          "iopub.execute_input": "2025-06-15T05:52:10.39948Z",
          "iopub.status.idle": "2025-06-15T05:52:10.41941Z",
          "shell.execute_reply.started": "2025-06-15T05:52:10.39944Z",
          "shell.execute_reply": "2025-06-15T05:52:10.418363Z"
        },
        "papermill": {
          "duration": 0.01289,
          "end_time": "2025-06-04T15:58:22.126324",
          "exception": false,
          "start_time": "2025-06-04T15:58:22.113434",
          "status": "completed"
        },
        "tags": [],
        "id": "44be4c4c",
        "trusted": true
      },
      "outputs": [],
      "execution_count": null
    },
    {
      "cell_type": "code",
      "source": [
        "y_decoded = label_encoder.inverse_transform(y_test)\n",
        "y_decoded"
      ],
      "metadata": {
        "execution": {
          "iopub.status.busy": "2025-06-15T05:52:10.42251Z",
          "iopub.execute_input": "2025-06-15T05:52:10.422868Z",
          "iopub.status.idle": "2025-06-15T05:52:10.445174Z",
          "shell.execute_reply.started": "2025-06-15T05:52:10.422836Z",
          "shell.execute_reply": "2025-06-15T05:52:10.444161Z"
        },
        "papermill": {
          "duration": 0.013121,
          "end_time": "2025-06-04T15:58:22.143689",
          "exception": false,
          "start_time": "2025-06-04T15:58:22.130568",
          "status": "completed"
        },
        "tags": [],
        "id": "aeee262b",
        "trusted": true
      },
      "outputs": [],
      "execution_count": null
    },
    {
      "cell_type": "code",
      "source": [
        "result = pd.DataFrame({\n",
        "    'ID': ID,\n",
        "    'class': y_decoded\n",
        "})"
      ],
      "metadata": {
        "execution": {
          "iopub.status.busy": "2025-06-15T05:52:10.446759Z",
          "iopub.execute_input": "2025-06-15T05:52:10.447129Z",
          "iopub.status.idle": "2025-06-15T05:52:10.466869Z",
          "shell.execute_reply.started": "2025-06-15T05:52:10.447094Z",
          "shell.execute_reply": "2025-06-15T05:52:10.465646Z"
        },
        "papermill": {
          "duration": 0.012481,
          "end_time": "2025-06-04T15:58:22.160251",
          "exception": false,
          "start_time": "2025-06-04T15:58:22.14777",
          "status": "completed"
        },
        "tags": [],
        "id": "e10db231",
        "trusted": true
      },
      "outputs": [],
      "execution_count": null
    },
    {
      "cell_type": "code",
      "source": [
        "result"
      ],
      "metadata": {
        "execution": {
          "iopub.status.busy": "2025-06-15T05:52:10.467963Z",
          "iopub.execute_input": "2025-06-15T05:52:10.468319Z",
          "iopub.status.idle": "2025-06-15T05:52:10.494399Z",
          "shell.execute_reply.started": "2025-06-15T05:52:10.46829Z",
          "shell.execute_reply": "2025-06-15T05:52:10.493085Z"
        },
        "papermill": {
          "duration": 0.01673,
          "end_time": "2025-06-04T15:58:22.18131",
          "exception": false,
          "start_time": "2025-06-04T15:58:22.16458",
          "status": "completed"
        },
        "tags": [],
        "id": "9906b67f",
        "trusted": true
      },
      "outputs": [],
      "execution_count": null
    },
    {
      "cell_type": "code",
      "source": [
        "result.to_csv(\"submission.csv\", index=False) #this file will appear under the output section of the right navbar. You need to submit this csv file"
      ],
      "metadata": {
        "execution": {
          "iopub.status.busy": "2025-06-15T05:52:10.495703Z",
          "iopub.execute_input": "2025-06-15T05:52:10.496053Z",
          "iopub.status.idle": "2025-06-15T05:52:10.522868Z",
          "shell.execute_reply.started": "2025-06-15T05:52:10.496029Z",
          "shell.execute_reply": "2025-06-15T05:52:10.521684Z"
        },
        "papermill": {
          "duration": 0.020066,
          "end_time": "2025-06-04T15:58:22.206173",
          "exception": false,
          "start_time": "2025-06-04T15:58:22.186107",
          "status": "completed"
        },
        "tags": [],
        "id": "484c74df",
        "trusted": true
      },
      "outputs": [],
      "execution_count": null
    },
    {
      "cell_type": "code",
      "source": [
        "# Imports\n",
        "import numpy as np\n",
        "import pandas as pd\n",
        "from sklearn.linear_model import LogisticRegression\n",
        "from sklearn.preprocessing import StandardScaler, LabelEncoder\n",
        "from sklearn.model_selection import train_test_split, cross_val_score\n",
        "from sklearn.metrics import classification_report\n",
        "\n",
        "# Load Data\n",
        "train = pd.read_csv('/kaggle/input/summer-analytics-mid-hackathon/hacktrain.csv')\n",
        "test = pd.read_csv('/kaggle/input/summer-analytics-mid-hackathon/hacktest.csv')\n",
        "\n",
        "# new edit\n",
        "X_tr, X_val, y_tr, y_val = train_test_split(X_train_scaled, y_train, test_size=0.2, stratify=y_train, random_state=42)\n",
        "\n",
        "model.fit(X_tr, y_tr)\n",
        "val_preds = model.predict(X_val)\n",
        "\n",
        "# 🧾 Print classification report\n",
        "print(classification_report(y_val, val_preds, target_names=le.classes_))\n",
        "\n",
        "# Handle missing values using mean imputation\n",
        "train.fillna(train.mean(numeric_only=True), inplace=True)\n",
        "test.fillna(test.mean(numeric_only=True), inplace=True)\n",
        "\n",
        "# Feature Engineering\n",
        "def extract_features(df):\n",
        "    ndvi_cols = [col for col in df.columns if '_N' in col]\n",
        "    features = pd.DataFrame(index=df.index)\n",
        "    features['ndvi_mean'] = df[ndvi_cols].mean(axis=1)\n",
        "    features['ndvi_std'] = df[ndvi_cols].std(axis=1)\n",
        "    features['ndvi_min'] = df[ndvi_cols].min(axis=1)\n",
        "    features['ndvi_max'] = df[ndvi_cols].max(axis=1)\n",
        "    features['ndvi_median'] = df[ndvi_cols].median(axis=1)\n",
        "    features['ndvi_range'] = features['ndvi_max'] - features['ndvi_min']\n",
        "    features['ndvi_first'] = df[ndvi_cols].iloc[:, 0]\n",
        "    features['ndvi_last'] = df[ndvi_cols].iloc[:, -1]\n",
        "    features['ndvi_trend'] = features['ndvi_last'] - features['ndvi_first']\n",
        "    features['ndvi_slope'] = df[ndvi_cols].apply(lambda row: np.polyfit(range(len(row)), row, 1)[0], axis=1)\n",
        "    return features\n",
        "\n",
        "\n",
        "X_train = extract_features(train)\n",
        "X_test = extract_features(test)\n",
        "\n",
        "# Encode target labels\n",
        "le = LabelEncoder()\n",
        "y_train = le.fit_transform(train['class'])\n",
        "\n",
        "# Scale features\n",
        "scaler = StandardScaler()\n",
        "X_train_scaled = scaler.fit_transform(X_train)\n",
        "X_test_scaled = scaler.transform(X_test)\n",
        "\n",
        "# Logistic Regression Model\n",
        "model = LogisticRegression(multi_class='multinomial', solver='lbfgs', max_iter=1000, C=1.0, class_weight= 'balanced')\n",
        "model.fit(X_train_scaled, y_train)\n",
        "\n",
        "# Evaluate on hold-out split\n",
        "X_tr, X_val, y_tr, y_val = train_test_split(X_train_scaled, y_train, test_size=0.2, stratify=y_train, random_state=42)\n",
        "model.fit(X_tr, y_tr)\n",
        "val_preds = model.predict(X_val)\n",
        "print(classification_report(y_val, val_preds, target_names=le.classes_))\n",
        "\n",
        "# Predict on test set\n",
        "test_preds = model.predict(X_test_scaled)\n",
        "test_labels = le.inverse_transform(test_preds)\n",
        "\n",
        "# Generate submission\n",
        "submission = pd.DataFrame({\n",
        "    'ID': test['ID'],\n",
        "    'class': test_labels\n",
        "})\n",
        "submission.to_csv('submission.csv', index=False)\n",
        "submission.head()\n"
      ],
      "metadata": {
        "papermill": {
          "duration": 0.004107,
          "end_time": "2025-06-04T15:58:22.214773",
          "exception": false,
          "start_time": "2025-06-04T15:58:22.210666",
          "status": "completed"
        },
        "tags": [],
        "id": "60bc6119",
        "trusted": true,
        "execution": {
          "iopub.status.busy": "2025-06-15T06:13:01.729607Z",
          "iopub.execute_input": "2025-06-15T06:13:01.729943Z",
          "iopub.status.idle": "2025-06-15T06:13:04.718741Z",
          "shell.execute_reply.started": "2025-06-15T06:13:01.729909Z",
          "shell.execute_reply": "2025-06-15T06:13:04.717892Z"
        }
      },
      "outputs": [],
      "execution_count": null
    },
    {
      "cell_type": "code",
      "source": [],
      "metadata": {
        "trusted": true,
        "id": "77fe7231-2754-4b98-ada2-9d0e7d66fef0"
      },
      "outputs": [],
      "execution_count": null
    },
    {
      "cell_type": "code",
      "source": [],
      "metadata": {
        "trusted": true,
        "id": "8e84ff54-26d7-40fd-a079-4bef42c6af92"
      },
      "outputs": [],
      "execution_count": null
    }
  ]
}